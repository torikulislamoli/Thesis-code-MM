{
  "metadata": {
    "kernelspec": {
      "language": "python",
      "display_name": "Python 3",
      "name": "python3"
    },
    "language_info": {
      "name": "python",
      "version": "3.7.12",
      "mimetype": "text/x-python",
      "codemirror_mode": {
        "name": "ipython",
        "version": 3
      },
      "pygments_lexer": "ipython3",
      "nbconvert_exporter": "python",
      "file_extension": ".py"
    },
    "colab": {
      "name": "thesis-code.ipynb",
      "provenance": [],
      "include_colab_link": true
    }
  },
  "nbformat_minor": 0,
  "nbformat": 4,
  "cells": [
    {
      "cell_type": "markdown",
      "metadata": {
        "id": "view-in-github",
        "colab_type": "text"
      },
      "source": [
        "<a href=\"https://colab.research.google.com/github/torikulislamoli/Thesis-code-MM/blob/main/thesis_code.ipynb\" target=\"_parent\"><img src=\"https://colab.research.google.com/assets/colab-badge.svg\" alt=\"Open In Colab\"/></a>"
      ]
    },
    {
      "cell_type": "code",
      "source": [
        "from google.colab import drive\n",
        "drive.mount('/content/drive')"
      ],
      "metadata": {
        "colab": {
          "base_uri": "https://localhost:8080/"
        },
        "id": "2rz4ZS7OhQJK",
        "outputId": "df662825-6428-460b-97cb-967f29fb2350"
      },
      "execution_count": 377,
      "outputs": [
        {
          "output_type": "stream",
          "name": "stdout",
          "text": [
            "Drive already mounted at /content/drive; to attempt to forcibly remount, call drive.mount(\"/content/drive\", force_remount=True).\n"
          ]
        }
      ]
    },
    {
      "cell_type": "code",
      "source": [
        "import os\n",
        "\n",
        "import tensorflow as tf\n",
        "import tensorflow_hub as hub\n",
        "\n",
        "import gdown\n",
        "import numpy as np\n",
        "from sklearn.metrics import classification_report\n",
        "import matplotlib.pyplot as plt\n",
        "import seaborn as sns"
      ],
      "metadata": {
        "id": "zSeyZMq-BYsu",
        "execution": {
          "iopub.status.busy": "2022-07-15T14:35:59.543088Z",
          "iopub.status.idle": "2022-07-15T14:35:59.543666Z",
          "shell.execute_reply.started": "2022-07-15T14:35:59.543487Z",
          "shell.execute_reply": "2022-07-15T14:35:59.543506Z"
        },
        "trusted": true
      },
      "execution_count": 378,
      "outputs": []
    },
    {
      "cell_type": "code",
      "source": [
        "#DIRECTORY = r'C:\\Users\\Mamun\\Documents\\ML Data Analysis\\Cats-Vs-Dog'\n",
        "DIRECTORY = '/content/drive/MyDrive/bangla'\n",
        "CATEGORIES = ['aids', 'allergies','diabetes','diarrhea','drug_reaction']\n",
        "print(DIRECTORY)\n",
        "print(os.listdir(DIRECTORY))"
      ],
      "metadata": {
        "execution": {
          "iopub.status.busy": "2022-07-15T14:35:59.544701Z",
          "iopub.status.idle": "2022-07-15T14:35:59.545240Z",
          "shell.execute_reply.started": "2022-07-15T14:35:59.545051Z",
          "shell.execute_reply": "2022-07-15T14:35:59.545068Z"
        },
        "trusted": true,
        "colab": {
          "base_uri": "https://localhost:8080/"
        },
        "id": "iwjlaJQKWHWl",
        "outputId": "ab7951dc-b80b-43d7-9799-ae3b80184113"
      },
      "execution_count": 379,
      "outputs": [
        {
          "output_type": "stream",
          "name": "stdout",
          "text": [
            "/content/drive/MyDrive/bangla\n",
            "['diarrhea', 'allergies', 'aids', 'diabetes', 'drug_reaction']\n"
          ]
        }
      ]
    },
    {
      "cell_type": "code",
      "source": [
        "%%bash\n",
        "curl -O https://dl.fbaipublicfiles.com/fasttext/vectors-crawl/cc.bn.300.vec.gz\n",
        "curl -O https://raw.githubusercontent.com/tensorflow/hub/master/examples/text_embeddings_v2/export_v2.py\n",
        "gunzip -qf cc.bn.300.vec.gz --k"
      ],
      "metadata": {
        "id": "5DY5Ze6pO1G5",
        "execution": {
          "iopub.status.busy": "2022-07-15T14:35:59.546217Z",
          "iopub.status.idle": "2022-07-15T14:35:59.546600Z",
          "shell.execute_reply.started": "2022-07-15T14:35:59.546424Z",
          "shell.execute_reply": "2022-07-15T14:35:59.546441Z"
        },
        "trusted": true,
        "colab": {
          "base_uri": "https://localhost:8080/"
        },
        "outputId": "5b5a1fdc-89c2-451a-bdf0-f3529430f784"
      },
      "execution_count": 380,
      "outputs": [
        {
          "output_type": "stream",
          "name": "stderr",
          "text": [
            "  % Total    % Received % Xferd  Average Speed   Time    Time     Time  Current\n",
            "                                 Dload  Upload   Total   Spent    Left  Speed\n",
            "\r  0     0    0     0    0     0      0      0 --:--:-- --:--:-- --:--:--     0\r  0  840M    0 51758    0     0  50792      0  4:49:10  0:00:01  4:49:09 50792\r  0  840M    0 2596k    0     0  1323k      0  0:10:50  0:00:01  0:10:49 1322k\r  2  840M    2 23.0M    0     0  8071k      0  0:01:46  0:00:02  0:01:44 8068k\r  5  840M    5 48.4M    0     0  12.0M      0  0:01:09  0:00:04  0:01:05 12.0M\r  8  840M    8 68.8M    0     0  13.7M      0  0:01:01  0:00:05  0:00:56 13.7M\r 10  840M   10 91.0M    0     0  15.2M      0  0:00:55  0:00:05  0:00:50 18.3M\r 13  840M   13  113M    0     0  16.2M      0  0:00:51  0:00:06  0:00:45 22.2M\r 16  840M   16  137M    0     0  17.0M      0  0:00:49  0:00:08  0:00:41 22.2M\r 18  840M   18  158M    0     0  17.6M      0  0:00:47  0:00:09  0:00:38 22.1M\r 21  840M   21  181M    0     0  18.1M      0  0:00:46  0:00:09  0:00:37 22.6M\r 24  840M   24  203M    0     0  18.6M      0  0:00:45  0:00:10  0:00:35 22.6M\r 27  840M   27  228M    0     0  19.1M      0  0:00:43  0:00:11  0:00:32 23.0M\r 30  840M   30  252M    0     0  19.4M      0  0:00:43  0:00:13  0:00:30 23.2M\r 32  840M   32  275M    0     0  19.7M      0  0:00:42  0:00:13  0:00:29 23.5M\r 35  840M   35  298M    0     0  19.9M      0  0:00:42  0:00:14  0:00:28 23.6M\r 38  840M   38  322M    0     0  20.2M      0  0:00:41  0:00:15  0:00:26 23.9M\r 41  840M   41  347M    0     0  20.4M      0  0:00:41  0:00:17  0:00:24 23.5M\r 43  840M   43  369M    0     0  20.5M      0  0:00:40  0:00:17  0:00:23 23.5M\r 46  840M   46  392M    0     0  20.7M      0  0:00:40  0:00:18  0:00:22 23.5M\r 49  840M   49  417M    0     0  20.9M      0  0:00:40  0:00:19  0:00:21 23.7M\r 52  840M   52  441M    0     0  21.0M      0  0:00:39  0:00:20  0:00:19 23.4M\r 55  840M   55  464M    0     0  21.1M      0  0:00:39  0:00:21  0:00:18 23.5M\r 58  840M   58  487M    0     0  21.2M      0  0:00:39  0:00:22  0:00:17 23.7M\r 60  840M   60  511M    0     0  21.3M      0  0:00:39  0:00:23  0:00:16 23.8M\r 63  840M   63  536M    0     0  21.5M      0  0:00:39  0:00:24  0:00:15 23.8M\r 66  840M   66  560M    0     0  21.5M      0  0:00:38  0:00:25  0:00:13 23.7M\r 69  840M   69  583M    0     0  21.6M      0  0:00:38  0:00:26  0:00:12 23.7M\r 71  840M   71  604M    0     0  21.6M      0  0:00:38  0:00:27  0:00:11 23.5M\r 74  840M   74  628M    0     0  21.7M      0  0:00:38  0:00:28  0:00:10 23.4M\r 77  840M   77  649M    0     0  21.7M      0  0:00:38  0:00:29  0:00:09 22.6M\r 80  840M   80  672M    0     0  21.7M      0  0:00:38  0:00:30  0:00:08 22.7M\r 82  840M   82  697M    0     0  21.8M      0  0:00:38  0:00:31  0:00:07 23.0M\r 85  840M   85  721M    0     0  21.8M      0  0:00:38  0:00:33  0:00:05 23.0M\r 88  840M   88  744M    0     0  21.9M      0  0:00:38  0:00:33  0:00:05 22.9M\r 91  840M   91  767M    0     0  21.9M      0  0:00:38  0:00:34  0:00:04 23.3M\r 94  840M   94  792M    0     0  22.0M      0  0:00:38  0:00:35  0:00:03 23.8M\r 97  840M   97  816M    0     0  22.0M      0  0:00:38  0:00:37  0:00:01 23.4M\r100  840M  100  840M    0     0  22.1M      0  0:00:37  0:00:37 --:--:-- 23.7M\r100  840M  100  840M    0     0  22.1M      0  0:00:37  0:00:37 --:--:-- 23.8M\n",
            "  % Total    % Received % Xferd  Average Speed   Time    Time     Time  Current\n",
            "                                 Dload  Upload   Total   Spent    Left  Speed\n",
            "\r  0     0    0     0    0     0      0      0 --:--:-- --:--:-- --:--:--     0\r100  7469  100  7469    0     0   260k      0 --:--:-- --:--:-- --:--:--  260k\n"
          ]
        }
      ]
    },
    {
      "cell_type": "code",
      "source": [
        "%%bash\n",
        "python export_v2.py --embedding_file=cc.bn.300.vec --export_path=text_module --num_lines_to_ignore=1 --num_lines_to_use=100000"
      ],
      "metadata": {
        "id": "Tkv5acr_Q9UU",
        "execution": {
          "iopub.status.busy": "2022-07-15T14:35:59.548467Z",
          "iopub.status.idle": "2022-07-15T14:35:59.548860Z",
          "shell.execute_reply.started": "2022-07-15T14:35:59.548674Z",
          "shell.execute_reply": "2022-07-15T14:35:59.548692Z"
        },
        "trusted": true,
        "colab": {
          "base_uri": "https://localhost:8080/"
        },
        "outputId": "c61e67a2-6a73-431a-fcb0-80ceea0087c0"
      },
      "execution_count": 381,
      "outputs": [
        {
          "output_type": "stream",
          "name": "stderr",
          "text": [
            "2022-07-18 05:16:29.463486: E tensorflow/stream_executor/cuda/cuda_driver.cc:271] failed call to cuInit: CUDA_ERROR_NO_DEVICE: no CUDA-capable device is detected\n",
            "INFO:tensorflow:Assets written to: text_module/assets\n",
            "I0718 05:16:48.063490 139778646013824 builder_impl.py:780] Assets written to: text_module/assets\n"
          ]
        }
      ]
    },
    {
      "cell_type": "code",
      "source": [
        "module_path = \"text_module\"\n",
        "embedding_layer = hub.KerasLayer(module_path, trainable=False)"
      ],
      "metadata": {
        "id": "k9WEpmedF_3_",
        "execution": {
          "iopub.status.busy": "2022-07-15T14:35:59.550545Z",
          "iopub.status.idle": "2022-07-15T14:35:59.550948Z",
          "shell.execute_reply.started": "2022-07-15T14:35:59.550756Z",
          "shell.execute_reply": "2022-07-15T14:35:59.550775Z"
        },
        "trusted": true
      },
      "execution_count": 383,
      "outputs": []
    },
    {
      "cell_type": "code",
      "source": [
        "embedding_layer(['এলার্জি', 'তৃষ্ণা_বৃদ্ধি_পাওয়া', 'স্পটিং_ প্রস্রাব', 'মাউথ_আলসার', 'ওজন_কমে_যাওয়া'])"
      ],
      "metadata": {
        "id": "Z1MBnaBUihWn",
        "execution": {
          "iopub.status.busy": "2022-07-15T14:35:59.552712Z",
          "iopub.status.idle": "2022-07-15T14:35:59.553580Z",
          "shell.execute_reply.started": "2022-07-15T14:35:59.553354Z",
          "shell.execute_reply": "2022-07-15T14:35:59.553377Z"
        },
        "trusted": true,
        "colab": {
          "base_uri": "https://localhost:8080/"
        },
        "outputId": "6f7dc9c2-8f3f-4d9f-872d-3cc22fa6a627"
      },
      "execution_count": 384,
      "outputs": [
        {
          "output_type": "execute_result",
          "data": {
            "text/plain": [
              "<tf.Tensor: shape=(5, 300), dtype=float64, numpy=\n",
              "array([[-0.0416    ,  0.08      ,  0.0962    , ...,  0.0291    ,\n",
              "         0.0124    , -0.0673    ],\n",
              "       [ 0.        ,  0.        ,  0.        , ...,  0.        ,\n",
              "         0.        ,  0.        ],\n",
              "       [ 0.02064752,  0.00176777, -0.04030509, ...,  0.02241528,\n",
              "         0.02390021,  0.00219203],\n",
              "       [ 0.        ,  0.        ,  0.        , ...,  0.        ,\n",
              "         0.        ,  0.        ],\n",
              "       [ 0.        ,  0.        ,  0.        , ...,  0.        ,\n",
              "         0.        ,  0.        ]])>"
            ]
          },
          "metadata": {},
          "execution_count": 384
        }
      ]
    },
    {
      "cell_type": "code",
      "source": [
        "file_paths = []\n",
        "labels = []\n",
        "\n",
        "for category in CATEGORIES:\n",
        "    path = os.path.join(DIRECTORY, category)\n",
        "\n",
        "    for i, dir in enumerate(CATEGORIES):\n",
        "      file_names = [\"/\".join([path, name]) for name in os.listdir(path)]\n",
        "      file_paths += file_names\n",
        "      labels += [i] * len(os.listdir(path))\n",
        "\n",
        "np.random.seed(42)\n",
        "permutation = np.random.permutation(len(file_paths))\n",
        "\n",
        "file_paths = np.array(file_paths)[permutation]\n",
        "labels = np.array(labels)[permutation]\n",
        "\n",
        "print(len(file_paths))\n",
        "print(len(labels))"
      ],
      "metadata": {
        "id": "sdi4vXSWG2uh",
        "colab": {
          "base_uri": "https://localhost:8080/"
        },
        "outputId": "6a1a59a7-e33c-473a-b2a4-4158acf4c910"
      },
      "execution_count": 403,
      "outputs": [
        {
          "output_type": "stream",
          "name": "stdout",
          "text": [
            "25\n",
            "25\n"
          ]
        }
      ]
    },
    {
      "cell_type": "code",
      "source": [
        "train_frac = 0.8\n",
        "train_size = int(len(file_paths) * train_frac)\n",
        "print(train_size)"
      ],
      "metadata": {
        "id": "mimhWVSzzAmS",
        "execution": {
          "iopub.status.busy": "2022-07-15T14:35:59.556806Z",
          "iopub.status.idle": "2022-07-15T14:35:59.557209Z",
          "shell.execute_reply.started": "2022-07-15T14:35:59.556995Z",
          "shell.execute_reply": "2022-07-15T14:35:59.557013Z"
        },
        "trusted": true,
        "colab": {
          "base_uri": "https://localhost:8080/"
        },
        "outputId": "6e7b9b41-9e35-4a3c-e187-c7c247a3c37a"
      },
      "execution_count": 406,
      "outputs": [
        {
          "output_type": "stream",
          "name": "stdout",
          "text": [
            "20\n"
          ]
        }
      ]
    },
    {
      "cell_type": "code",
      "source": [
        "def load_file(path, label):\n",
        "    return tf.io.read_file(path), label"
      ],
      "metadata": {
        "id": "eZRGTzEhUi7Q",
        "execution": {
          "iopub.status.busy": "2022-07-15T14:35:59.558861Z",
          "iopub.status.idle": "2022-07-15T14:35:59.560427Z",
          "shell.execute_reply.started": "2022-07-15T14:35:59.560097Z",
          "shell.execute_reply": "2022-07-15T14:35:59.560146Z"
        },
        "trusted": true
      },
      "execution_count": 407,
      "outputs": []
    },
    {
      "cell_type": "code",
      "source": [
        "def make_datasets(train_size):\n",
        "  batch_size = 10\n",
        "\n",
        "  train_files = file_paths[:train_size]\n",
        "  train_labels = labels[:train_size] \n",
        "  train_ds = tf.data.Dataset.from_tensor_slices((train_files, train_labels))\n",
        "  \n",
        "  train_ds = train_ds.map(load_file).shuffle(5000)\n",
        "  train_ds = train_ds.batch(batch_size).prefetch(tf.data.AUTOTUNE)\n",
        "\n",
        "  test_files = file_paths[train_size:]\n",
        "  test_labels = labels[train_size:]\n",
        "  test_ds = tf.data.Dataset.from_tensor_slices((test_files, test_labels))\n",
        "  test_ds = test_ds.map(load_file)\n",
        "  test_ds = test_ds.batch(batch_size).prefetch(tf.data.AUTOTUNE)\n",
        "\n",
        "  return train_ds, test_ds"
      ],
      "metadata": {
        "id": "2g4nRflB7fbF",
        "execution": {
          "iopub.status.busy": "2022-07-15T14:35:59.561908Z",
          "iopub.status.idle": "2022-07-15T14:35:59.562338Z",
          "shell.execute_reply.started": "2022-07-15T14:35:59.562094Z",
          "shell.execute_reply": "2022-07-15T14:35:59.562142Z"
        },
        "trusted": true
      },
      "execution_count": 408,
      "outputs": []
    },
    {
      "cell_type": "code",
      "source": [
        "train_data, validation_data = make_datasets(train_size)"
      ],
      "metadata": {
        "id": "8PuuN6el8tv9",
        "execution": {
          "iopub.status.busy": "2022-07-15T14:35:59.564282Z",
          "iopub.status.idle": "2022-07-15T14:35:59.564658Z",
          "shell.execute_reply.started": "2022-07-15T14:35:59.564477Z",
          "shell.execute_reply": "2022-07-15T14:35:59.564493Z"
        },
        "trusted": true
      },
      "execution_count": 409,
      "outputs": []
    },
    {
      "cell_type": "markdown",
      "source": [
        "## Model"
      ],
      "metadata": {
        "id": "WhCqbDK2uUV5"
      }
    },
    {
      "cell_type": "code",
      "source": [
        "def create_model():\n",
        "  model = tf.keras.Sequential([\n",
        "    tf.keras.layers.Input(shape=[], dtype=tf.string),\n",
        "    embedding_layer,\n",
        "    tf.keras.layers.Dense(64, activation=\"relu\"),\n",
        "    tf.keras.layers.Dense(16, activation=\"relu\"),\n",
        "    tf.keras.layers.Dense(5),\n",
        "  ])\n",
        "  model.compile(loss=tf.losses.SparseCategoricalCrossentropy(from_logits=True),\n",
        "      optimizer=\"adam\", metrics=['accuracy'])\n",
        "  return model  "
      ],
      "metadata": {
        "id": "nHUw807XPPM9",
        "execution": {
          "iopub.status.busy": "2022-07-15T14:35:59.566014Z",
          "iopub.status.idle": "2022-07-15T14:35:59.566420Z",
          "shell.execute_reply.started": "2022-07-15T14:35:59.566236Z",
          "shell.execute_reply": "2022-07-15T14:35:59.566254Z"
        },
        "trusted": true
      },
      "execution_count": 411,
      "outputs": []
    },
    {
      "cell_type": "code",
      "source": [
        "model = create_model()\n",
        "# Create earlystopping callback\n",
        "early_stopping_callback = tf.keras.callbacks.EarlyStopping(monitor='val_loss', min_delta=0, patience=3)"
      ],
      "metadata": {
        "id": "5J4EXJUmPVNG",
        "execution": {
          "iopub.status.busy": "2022-07-15T14:35:59.567502Z",
          "iopub.status.idle": "2022-07-15T14:35:59.567843Z",
          "shell.execute_reply.started": "2022-07-15T14:35:59.567677Z",
          "shell.execute_reply": "2022-07-15T14:35:59.567692Z"
        },
        "trusted": true
      },
      "execution_count": 412,
      "outputs": []
    },
    {
      "cell_type": "markdown",
      "source": [
        "## Training"
      ],
      "metadata": {
        "id": "ZZ7XJLg2u2No"
      }
    },
    {
      "cell_type": "code",
      "source": [
        "history = model.fit(train_data, \n",
        "                    validation_data=validation_data, \n",
        "                    epochs=5, \n",
        "                    callbacks=[early_stopping_callback])"
      ],
      "metadata": {
        "id": "OoBkN2tAaXWD",
        "execution": {
          "iopub.status.busy": "2022-07-15T14:35:59.569431Z",
          "iopub.status.idle": "2022-07-15T14:35:59.570458Z",
          "shell.execute_reply.started": "2022-07-15T14:35:59.570219Z",
          "shell.execute_reply": "2022-07-15T14:35:59.570240Z"
        },
        "trusted": true,
        "colab": {
          "base_uri": "https://localhost:8080/"
        },
        "outputId": "914c25e1-c11d-4096-a92f-8b9bcc5bffaa"
      },
      "execution_count": 413,
      "outputs": [
        {
          "output_type": "stream",
          "name": "stdout",
          "text": [
            "Epoch 1/5\n",
            "2/2 [==============================] - 1s 170ms/step - loss: 1.6102 - accuracy: 0.2000 - val_loss: 1.6095 - val_accuracy: 0.2000\n",
            "Epoch 2/5\n",
            "2/2 [==============================] - 0s 31ms/step - loss: 1.6104 - accuracy: 0.2000 - val_loss: 1.6101 - val_accuracy: 0.0000e+00\n",
            "Epoch 3/5\n",
            "2/2 [==============================] - 0s 31ms/step - loss: 1.6096 - accuracy: 0.2500 - val_loss: 1.6107 - val_accuracy: 0.0000e+00\n",
            "Epoch 4/5\n",
            "2/2 [==============================] - 0s 33ms/step - loss: 1.6093 - accuracy: 0.2500 - val_loss: 1.6113 - val_accuracy: 0.0000e+00\n"
          ]
        }
      ]
    },
    {
      "cell_type": "code",
      "source": [
        "# Plot training & validation accuracy values\n",
        "plt.plot(history.history['accuracy'])\n",
        "plt.plot(history.history['val_accuracy'])\n",
        "plt.title('Model accuracy')\n",
        "plt.ylabel('Accuracy')\n",
        "plt.xlabel('Epoch')\n",
        "plt.legend(['Train', 'Test'], loc='upper left')\n",
        "plt.show()\n",
        "\n",
        "# Plot training & validation loss values\n",
        "plt.plot(history.history['loss'])\n",
        "plt.plot(history.history['val_loss'])\n",
        "plt.title('Model loss')\n",
        "plt.ylabel('Loss')\n",
        "plt.xlabel('Epoch')\n",
        "plt.legend(['Train', 'Test'], loc='upper left')\n",
        "plt.show()"
      ],
      "metadata": {
        "id": "V6tOnByIOeGn",
        "execution": {
          "iopub.status.busy": "2022-07-15T14:35:59.572575Z",
          "iopub.status.idle": "2022-07-15T14:35:59.572965Z",
          "shell.execute_reply.started": "2022-07-15T14:35:59.572767Z",
          "shell.execute_reply": "2022-07-15T14:35:59.572783Z"
        },
        "trusted": true,
        "colab": {
          "base_uri": "https://localhost:8080/",
          "height": 573
        },
        "outputId": "fec9d5f9-d8b3-4b14-d4ec-487414792e0f"
      },
      "execution_count": 414,
      "outputs": [
        {
          "output_type": "display_data",
          "data": {
            "text/plain": [
              "<Figure size 432x288 with 1 Axes>"
            ],
            "image/png": "[encoded data removed]"
          },
          "metadata": {
            "needs_background": "light"
          }
        },
        {
          "output_type": "display_data",
          "data": {
            "text/plain": [
              "<Figure size 432x288 with 1 Axes>"
            ],
            "image/png": "[encoded data removed]"
          },
          "metadata": {
            "needs_background": "light"
          }
        }
      ]
    },
    {
      "cell_type": "code",
      "source": [
        "y_pred = model.predict(validation_data)"
      ],
      "metadata": {
        "id": "dptEywzZJk4l",
        "execution": {
          "iopub.status.busy": "2022-07-15T14:35:59.575328Z",
          "iopub.status.idle": "2022-07-15T14:35:59.576144Z",
          "shell.execute_reply.started": "2022-07-15T14:35:59.575760Z",
          "shell.execute_reply": "2022-07-15T14:35:59.575793Z"
        },
        "trusted": true
      },
      "execution_count": 415,
      "outputs": []
    },
    {
      "cell_type": "code",
      "source": [
        "y_pred = np.argmax(y_pred, axis=1)"
      ],
      "metadata": {
        "id": "7Dzeml6Pk0ub",
        "execution": {
          "iopub.status.busy": "2022-07-15T14:35:59.577967Z",
          "iopub.status.idle": "2022-07-15T14:35:59.578599Z",
          "shell.execute_reply.started": "2022-07-15T14:35:59.578300Z",
          "shell.execute_reply": "2022-07-15T14:35:59.578328Z"
        },
        "trusted": true
      },
      "execution_count": 416,
      "outputs": []
    },
    {
      "cell_type": "code",
      "source": [
        "samples = file_paths[0:3]\n",
        "for i, sample in enumerate(samples):\n",
        "  f = open(sample)\n",
        "  text = f.read()\n",
        "  print(text[0:100])\n",
        "  print(\"True Class: \", sample.split(\"/\")[5])\n",
        "  print(\"Predicted Class: \", CATEGORIES[y_pred[i]])\n",
        "  print()\n",
        "  f.close()"
      ],
      "metadata": {
        "id": "T4M3Lzg8jHcB",
        "execution": {
          "iopub.status.busy": "2022-07-15T14:35:59.580970Z",
          "iopub.status.idle": "2022-07-15T14:35:59.581582Z",
          "shell.execute_reply.started": "2022-07-15T14:35:59.581288Z",
          "shell.execute_reply": "2022-07-15T14:35:59.581315Z"
        },
        "trusted": true,
        "colab": {
          "base_uri": "https://localhost:8080/"
        },
        "outputId": "941ad175-ce78-46ca-f3bc-d846236cd7ee"
      },
      "execution_count": 417,
      "outputs": [
        {
          "output_type": "stream",
          "name": "stdout",
          "text": [
            "হাঁচি,নাক_অথবা_গলা_চুলকায়,ভরাট_নাক,কাশি\n",
            "True Class:  allergies\n",
            "Predicted Class:  diarrhea\n",
            "\n",
            "বমি_বমি_ভাব,তৃষ্ণা_বৃদ্ধি_পাওয়া,পেট_ব্যথা,ওজন_কমে_যাওয়া\n",
            "True Class:  diarrhea\n",
            "Predicted Class:  diarrhea\n",
            "\n",
            "মাত্রাতিরিক্ত_জ্বর,শরীরে র‍্যাশ,ক্লান্তি,মাউথ_আলসার\n",
            "True Class:  aids\n",
            "Predicted Class:  diarrhea\n",
            "\n"
          ]
        }
      ]
    },
    {
      "cell_type": "code",
      "source": [
        "y_true = np.array(labels[train_size:])"
      ],
      "metadata": {
        "id": "mqrERUCS1Xn7",
        "execution": {
          "iopub.status.busy": "2022-07-15T14:35:59.583472Z",
          "iopub.status.idle": "2022-07-15T14:35:59.584047Z",
          "shell.execute_reply.started": "2022-07-15T14:35:59.583749Z",
          "shell.execute_reply": "2022-07-15T14:35:59.583777Z"
        },
        "trusted": true
      },
      "execution_count": 418,
      "outputs": []
    },
    {
      "cell_type": "code",
      "source": [
        ""
      ],
      "metadata": {
        "id": "UvKan4kEmCt7",
        "outputId": "132d2fbd-2293-41f5-f170-f474edc6750b",
        "colab": {
          "base_uri": "https://localhost:8080/"
        }
      },
      "execution_count": 399,
      "outputs": [
        {
          "output_type": "stream",
          "name": "stdout",
          "text": [
            "5\n",
            "5\n",
            "5\n"
          ]
        }
      ]
    },
    {
      "cell_type": "code",
      "source": [
        "print(classification_report(y_true, y_pred, target_names=CATEGORIES))"
      ],
      "metadata": {
        "id": "NX5w-NuTKuVP",
        "execution": {
          "iopub.status.busy": "2022-07-15T14:35:59.586521Z",
          "iopub.status.idle": "2022-07-15T14:35:59.586973Z",
          "shell.execute_reply.started": "2022-07-15T14:35:59.586777Z",
          "shell.execute_reply": "2022-07-15T14:35:59.586795Z"
        },
        "trusted": true,
        "colab": {
          "base_uri": "https://localhost:8080/"
        },
        "outputId": "068f6465-3c03-47ae-a54d-c7cc31c9d9e6"
      },
      "execution_count": 419,
      "outputs": [
        {
          "output_type": "stream",
          "name": "stdout",
          "text": [
            "               precision    recall  f1-score   support\n",
            "\n",
            "         aids       0.00      0.00      0.00       1.0\n",
            "    allergies       0.00      0.00      0.00       1.0\n",
            "     diabetes       0.00      0.00      0.00       1.0\n",
            "     diarrhea       0.00      0.00      0.00       0.0\n",
            "drug_reaction       0.00      0.00      0.00       2.0\n",
            "\n",
            "     accuracy                           0.00       5.0\n",
            "    macro avg       0.00      0.00      0.00       5.0\n",
            " weighted avg       0.00      0.00      0.00       5.0\n",
            "\n"
          ]
        },
        {
          "output_type": "stream",
          "name": "stderr",
          "text": [
            "/usr/local/lib/python3.7/dist-packages/sklearn/metrics/_classification.py:1318: UndefinedMetricWarning: Precision and F-score are ill-defined and being set to 0.0 in labels with no predicted samples. Use `zero_division` parameter to control this behavior.\n",
            "  _warn_prf(average, modifier, msg_start, len(result))\n",
            "/usr/local/lib/python3.7/dist-packages/sklearn/metrics/_classification.py:1318: UndefinedMetricWarning: Recall and F-score are ill-defined and being set to 0.0 in labels with no true samples. Use `zero_division` parameter to control this behavior.\n",
            "  _warn_prf(average, modifier, msg_start, len(result))\n",
            "/usr/local/lib/python3.7/dist-packages/sklearn/metrics/_classification.py:1318: UndefinedMetricWarning: Precision and F-score are ill-defined and being set to 0.0 in labels with no predicted samples. Use `zero_division` parameter to control this behavior.\n",
            "  _warn_prf(average, modifier, msg_start, len(result))\n",
            "/usr/local/lib/python3.7/dist-packages/sklearn/metrics/_classification.py:1318: UndefinedMetricWarning: Recall and F-score are ill-defined and being set to 0.0 in labels with no true samples. Use `zero_division` parameter to control this behavior.\n",
            "  _warn_prf(average, modifier, msg_start, len(result))\n",
            "/usr/local/lib/python3.7/dist-packages/sklearn/metrics/_classification.py:1318: UndefinedMetricWarning: Precision and F-score are ill-defined and being set to 0.0 in labels with no predicted samples. Use `zero_division` parameter to control this behavior.\n",
            "  _warn_prf(average, modifier, msg_start, len(result))\n",
            "/usr/local/lib/python3.7/dist-packages/sklearn/metrics/_classification.py:1318: UndefinedMetricWarning: Recall and F-score are ill-defined and being set to 0.0 in labels with no true samples. Use `zero_division` parameter to control this behavior.\n",
            "  _warn_prf(average, modifier, msg_start, len(result))\n"
          ]
        }
      ]
    }
  ]
}
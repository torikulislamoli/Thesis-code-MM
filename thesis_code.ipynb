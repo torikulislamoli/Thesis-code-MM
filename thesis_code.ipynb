{
  "metadata": {
    "kernelspec": {
      "language": "python",
      "display_name": "Python 3",
      "name": "python3"
    },
    "language_info": {
      "name": "python",
      "version": "3.7.12",
      "mimetype": "text/x-python",
      "codemirror_mode": {
        "name": "ipython",
        "version": 3
      },
      "pygments_lexer": "ipython3",
      "nbconvert_exporter": "python",
      "file_extension": ".py"
    },
    "colab": {
      "name": "thesis-code.ipynb",
      "provenance": [],
      "include_colab_link": true
    }
  },
  "nbformat_minor": 0,
  "nbformat": 4,
  "cells": [
    {
      "cell_type": "markdown",
      "metadata": {
        "id": "view-in-github",
        "colab_type": "text"
      },
      "source": [
        "<a href=\"https://colab.research.google.com/github/torikulislamoli/a/blob/main/thesis_code.ipynb\" target=\"_parent\"><img src=\"https://colab.research.google.com/assets/colab-badge.svg\" alt=\"Open In Colab\"/></a>"
      ]
    },
    {
      "cell_type": "code",
      "source": [
        "from google.colab import drive\n",
        "drive.mount('/content/drive')"
      ],
      "metadata": {
        "colab": {
          "base_uri": "https://localhost:8080/"
        },
        "id": "2rz4ZS7OhQJK",
        "outputId": "493a9e7b-b08e-4f4e-fc69-6e7d37bd9410"
      },
      "execution_count": null,
      "outputs": [
        {
          "output_type": "stream",
          "name": "stdout",
          "text": [
            "Drive already mounted at /content/drive; to attempt to forcibly remount, call drive.mount(\"/content/drive\", force_remount=True).\n"
          ]
        }
      ]
    },
    {
      "cell_type": "code",
      "source": [
        "%%bash\n",
        "# https://github.com/pypa/setuptools/issues/1694#issuecomment-466010982\n",
        "pip install gdown --no-use-pep517"
      ],
      "metadata": {
        "id": "9Vt-StAAZguA",
        "execution": {
          "iopub.status.busy": "2022-07-15T14:35:59.539512Z",
          "iopub.status.idle": "2022-07-15T14:35:59.540191Z",
          "shell.execute_reply.started": "2022-07-15T14:35:59.539959Z",
          "shell.execute_reply": "2022-07-15T14:35:59.539982Z"
        },
        "trusted": true,
        "colab": {
          "base_uri": "https://localhost:8080/"
        },
        "outputId": "58794677-54f4-4ea4-c068-1becb973c9db"
      },
      "execution_count": null,
      "outputs": [
        {
          "output_type": "stream",
          "name": "stdout",
          "text": [
            "Looking in indexes: https://pypi.org/simple, https://us-python.pkg.dev/colab-wheels/public/simple/\n",
            "Requirement already satisfied: gdown in /usr/local/lib/python3.7/dist-packages (4.4.0)\n",
            "Requirement already satisfied: six in /usr/local/lib/python3.7/dist-packages (from gdown) (1.15.0)\n",
            "Requirement already satisfied: tqdm in /usr/local/lib/python3.7/dist-packages (from gdown) (4.64.0)\n",
            "Requirement already satisfied: filelock in /usr/local/lib/python3.7/dist-packages (from gdown) (3.7.1)\n",
            "Requirement already satisfied: beautifulsoup4 in /usr/local/lib/python3.7/dist-packages (from gdown) (4.6.3)\n",
            "Requirement already satisfied: requests[socks] in /usr/local/lib/python3.7/dist-packages (from gdown) (2.23.0)\n",
            "Requirement already satisfied: idna<3,>=2.5 in /usr/local/lib/python3.7/dist-packages (from requests[socks]->gdown) (2.10)\n",
            "Requirement already satisfied: urllib3!=1.25.0,!=1.25.1,<1.26,>=1.21.1 in /usr/local/lib/python3.7/dist-packages (from requests[socks]->gdown) (1.24.3)\n",
            "Requirement already satisfied: certifi>=2017.4.17 in /usr/local/lib/python3.7/dist-packages (from requests[socks]->gdown) (2022.6.15)\n",
            "Requirement already satisfied: chardet<4,>=3.0.2 in /usr/local/lib/python3.7/dist-packages (from requests[socks]->gdown) (3.0.4)\n",
            "Requirement already satisfied: PySocks!=1.5.7,>=1.5.6 in /usr/local/lib/python3.7/dist-packages (from requests[socks]->gdown) (1.7.1)\n"
          ]
        }
      ]
    },
    {
      "cell_type": "code",
      "source": [
        "%%bash\n",
        "sudo apt-get install -y unzip"
      ],
      "metadata": {
        "id": "WcBA19FlDPZO",
        "execution": {
          "iopub.status.busy": "2022-07-15T14:35:59.541399Z",
          "iopub.status.idle": "2022-07-15T14:35:59.541957Z",
          "shell.execute_reply.started": "2022-07-15T14:35:59.541775Z",
          "shell.execute_reply": "2022-07-15T14:35:59.541795Z"
        },
        "trusted": true,
        "colab": {
          "base_uri": "https://localhost:8080/"
        },
        "outputId": "9756d50d-1712-46e9-8e92-602a1a3bb3ee"
      },
      "execution_count": null,
      "outputs": [
        {
          "output_type": "stream",
          "name": "stdout",
          "text": [
            "Reading package lists...\n",
            "Building dependency tree...\n",
            "Reading state information...\n",
            "unzip is already the newest version (6.0-21ubuntu1.1).\n",
            "The following package was automatically installed and is no longer required:\n",
            "  libnvidia-common-460\n",
            "Use 'sudo apt autoremove' to remove it.\n",
            "0 upgraded, 0 newly installed, 0 to remove and 49 not upgraded.\n"
          ]
        }
      ]
    },
    {
      "cell_type": "code",
      "source": [
        "import os\n",
        "\n",
        "import tensorflow as tf\n",
        "import tensorflow_hub as hub\n",
        "\n",
        "import gdown\n",
        "import numpy as np\n",
        "from sklearn.metrics import classification_report\n",
        "import matplotlib.pyplot as plt\n",
        "import seaborn as sns"
      ],
      "metadata": {
        "id": "zSeyZMq-BYsu",
        "execution": {
          "iopub.status.busy": "2022-07-15T14:35:59.543088Z",
          "iopub.status.idle": "2022-07-15T14:35:59.543666Z",
          "shell.execute_reply.started": "2022-07-15T14:35:59.543487Z",
          "shell.execute_reply": "2022-07-15T14:35:59.543506Z"
        },
        "trusted": true
      },
      "execution_count": null,
      "outputs": []
    },
    {
      "cell_type": "code",
      "source": [
        "#DIRECTORY = r'C:\\Users\\Mamun\\Documents\\ML Data Analysis\\Cats-Vs-Dog'\n",
        "DIRECTORY = '/content/drive/MyDrive/bangla'\n",
        "CATEGORIES = ['aids', 'allergies','diabetes','diarrhea','drug_reaction']\n",
        "print(DIRECTORY)\n",
        "print(os.listdir(DIRECTORY))"
      ],
      "metadata": {
        "execution": {
          "iopub.status.busy": "2022-07-15T14:35:59.544701Z",
          "iopub.status.idle": "2022-07-15T14:35:59.545240Z",
          "shell.execute_reply.started": "2022-07-15T14:35:59.545051Z",
          "shell.execute_reply": "2022-07-15T14:35:59.545068Z"
        },
        "trusted": true,
        "colab": {
          "base_uri": "https://localhost:8080/"
        },
        "id": "iwjlaJQKWHWl",
        "outputId": "b9ef81fc-1a37-4952-ac63-cd33f795934f"
      },
      "execution_count": null,
      "outputs": [
        {
          "output_type": "stream",
          "name": "stdout",
          "text": [
            "/content/drive/MyDrive/bangla\n",
            "['aids', 'allergies', 'diabetes', 'diarrhea', 'drug_reaction']\n"
          ]
        }
      ]
    },
    {
      "cell_type": "code",
      "source": [
        "%%bash\n",
        "curl -O https://dl.fbaipublicfiles.com/fasttext/vectors-crawl/cc.bn.300.vec.gz\n",
        "curl -O https://raw.githubusercontent.com/tensorflow/hub/master/examples/text_embeddings_v2/export_v2.py\n",
        "gunzip -qf cc.bn.300.vec.gz --k"
      ],
      "metadata": {
        "id": "5DY5Ze6pO1G5",
        "execution": {
          "iopub.status.busy": "2022-07-15T14:35:59.546217Z",
          "iopub.status.idle": "2022-07-15T14:35:59.546600Z",
          "shell.execute_reply.started": "2022-07-15T14:35:59.546424Z",
          "shell.execute_reply": "2022-07-15T14:35:59.546441Z"
        },
        "trusted": true,
        "colab": {
          "base_uri": "https://localhost:8080/"
        },
        "outputId": "4bef30a7-71b3-48d8-d296-fb97839f1cd2"
      },
      "execution_count": null,
      "outputs": [
        {
          "output_type": "stream",
          "name": "stderr",
          "text": [
            "  % Total    % Received % Xferd  Average Speed   Time    Time     Time  Current\n",
            "                                 Dload  Upload   Total   Spent    Left  Speed\n",
            "\r  0     0    0     0    0     0      0      0 --:--:-- --:--:-- --:--:--     0\r  0     0    0     0    0     0      0      0 --:--:-- --:--:-- --:--:--     0\r  4  840M    4 40.4M    0     0  31.6M      0  0:00:26  0:00:01  0:00:25 31.6M\r 11  840M   11 96.0M    0     0  41.7M      0  0:00:20  0:00:02  0:00:18 41.7M\r 17  840M   17  146M    0     0  44.6M      0  0:00:18  0:00:03  0:00:15 44.6M\r 19  840M   19  165M    0     0  38.5M      0  0:00:21  0:00:04  0:00:17 38.5M\r 20  840M   20  173M    0     0  32.8M      0  0:00:25  0:00:05  0:00:20 34.9M\r 21  840M   21  181M    0     0  28.9M      0  0:00:29  0:00:06  0:00:23 28.1M\r 22  840M   22  189M    0     0  26.0M      0  0:00:32  0:00:07  0:00:25 18.8M\r 31  840M   31  261M    0     0  31.6M      0  0:00:26  0:00:08  0:00:18 23.0M\r 36  840M   36  304M    0     0  32.8M      0  0:00:25  0:00:09  0:00:16 27.9M\r 42  840M   42  356M    0     0  34.6M      0  0:00:24  0:00:10  0:00:14 36.5M\r 45  840M   45  381M    0     0  33.8M      0  0:00:24  0:00:11  0:00:13 40.0M\r 54  840M   54  456M    0     0  37.0M      0  0:00:22  0:00:12  0:00:10 52.8M\r 60  840M   60  512M    0     0  38.4M      0  0:00:21  0:00:13  0:00:08 49.6M\r 66  840M   66  557M    0     0  39.0M      0  0:00:21  0:00:14  0:00:07 50.5M\r 69  840M   69  582M    0     0  38.0M      0  0:00:22  0:00:15  0:00:07 45.2M\r 72  840M   72  607M    0     0  37.2M      0  0:00:22  0:00:16  0:00:06 45.0M\r 78  840M   78  658M    0     0  38.1M      0  0:00:22  0:00:17  0:00:05 40.8M\r 85  840M   85  720M    0     0  39.3M      0  0:00:21  0:00:18  0:00:03 41.6M\r 90  840M   90  763M    0     0  39.6M      0  0:00:21  0:00:19  0:00:02 41.1M\r 94  840M   94  791M    0     0  39.0M      0  0:00:21  0:00:20  0:00:01 41.9M\r 96  840M   96  807M    0     0  37.9M      0  0:00:22  0:00:21  0:00:01 40.1M\r100  840M  100  840M    0     0  39.1M      0  0:00:21  0:00:21 --:--:-- 43.4M\n",
            "  % Total    % Received % Xferd  Average Speed   Time    Time     Time  Current\n",
            "                                 Dload  Upload   Total   Spent    Left  Speed\n",
            "\r  0     0    0     0    0     0      0      0 --:--:-- --:--:-- --:--:--     0\r100  7469  100  7469    0     0  51157      0 --:--:-- --:--:-- --:--:-- 51157\n"
          ]
        }
      ]
    },
    {
      "cell_type": "code",
      "source": [
        "%%bash\n",
        "python export_v2.py --embedding_file=cc.bn.300.vec --export_path=text_module --num_lines_to_ignore=1 --num_lines_to_use=100000"
      ],
      "metadata": {
        "id": "Tkv5acr_Q9UU",
        "execution": {
          "iopub.status.busy": "2022-07-15T14:35:59.548467Z",
          "iopub.status.idle": "2022-07-15T14:35:59.548860Z",
          "shell.execute_reply.started": "2022-07-15T14:35:59.548674Z",
          "shell.execute_reply": "2022-07-15T14:35:59.548692Z"
        },
        "trusted": true,
        "colab": {
          "base_uri": "https://localhost:8080/"
        },
        "outputId": "c16b34fe-bd8e-47f5-cf97-ef58e1f006f5"
      },
      "execution_count": null,
      "outputs": [
        {
          "output_type": "stream",
          "name": "stderr",
          "text": [
            "2022-07-16 11:48:53.804290: E tensorflow/stream_executor/cuda/cuda_driver.cc:271] failed call to cuInit: CUDA_ERROR_NO_DEVICE: no CUDA-capable device is detected\n",
            "INFO:tensorflow:Assets written to: text_module/assets\n",
            "I0716 11:49:10.678164 140503168706432 builder_impl.py:780] Assets written to: text_module/assets\n"
          ]
        }
      ]
    },
    {
      "cell_type": "code",
      "source": [
        "module_path = \"text_module\"\n",
        "embedding_layer = hub.KerasLayer(module_path, trainable=False)"
      ],
      "metadata": {
        "id": "k9WEpmedF_3_",
        "execution": {
          "iopub.status.busy": "2022-07-15T14:35:59.550545Z",
          "iopub.status.idle": "2022-07-15T14:35:59.550948Z",
          "shell.execute_reply.started": "2022-07-15T14:35:59.550756Z",
          "shell.execute_reply": "2022-07-15T14:35:59.550775Z"
        },
        "trusted": true
      },
      "execution_count": null,
      "outputs": []
    },
    {
      "cell_type": "code",
      "source": [
        "embedding_layer(['এলার্জি', 'তৃষ্ণা_বৃদ্ধি_পাওয়া', 'স্পটিং_ প্রস্রাব', 'মাউথ_আলসার', 'ওজন_কমে_যাওয়া'])"
      ],
      "metadata": {
        "id": "Z1MBnaBUihWn",
        "execution": {
          "iopub.status.busy": "2022-07-15T14:35:59.552712Z",
          "iopub.status.idle": "2022-07-15T14:35:59.553580Z",
          "shell.execute_reply.started": "2022-07-15T14:35:59.553354Z",
          "shell.execute_reply": "2022-07-15T14:35:59.553377Z"
        },
        "trusted": true,
        "colab": {
          "base_uri": "https://localhost:8080/"
        },
        "outputId": "237a27fc-947b-4c9f-f828-66fadf58ae9a"
      },
      "execution_count": null,
      "outputs": [
        {
          "output_type": "execute_result",
          "data": {
            "text/plain": [
              "<tf.Tensor: shape=(5, 300), dtype=float64, numpy=\n",
              "array([[-0.0416    ,  0.08      ,  0.0962    , ...,  0.0291    ,\n",
              "         0.0124    , -0.0673    ],\n",
              "       [ 0.        ,  0.        ,  0.        , ...,  0.        ,\n",
              "         0.        ,  0.        ],\n",
              "       [ 0.02064752,  0.00176777, -0.04030509, ...,  0.02241528,\n",
              "         0.02390021,  0.00219203],\n",
              "       [ 0.        ,  0.        ,  0.        , ...,  0.        ,\n",
              "         0.        ,  0.        ],\n",
              "       [ 0.        ,  0.        ,  0.        , ...,  0.        ,\n",
              "         0.        ,  0.        ]])>"
            ]
          },
          "metadata": {},
          "execution_count": 87
        }
      ]
    },
    {
      "cell_type": "code",
      "source": [
        "file_paths = []\n",
        "labels = []\n",
        "for category in CATEGORIES:\n",
        "    path = os.path.join(DIRECTORY, category)\n",
        "    #print(path)\n",
        "    for i, dir in enumerate(CATEGORIES):\n",
        "      file_names = [\"/\".join([path, name]) for name in os.listdir(path)]\n",
        "      file_paths += file_names\n",
        "      labels += [i] * len(os.listdir(path))\n",
        "\n",
        "print(file_paths[0])\n",
        "print(labels)"
      ],
      "metadata": {
        "execution": {
          "iopub.status.busy": "2022-07-15T14:35:59.555174Z",
          "iopub.status.idle": "2022-07-15T14:35:59.555560Z",
          "shell.execute_reply.started": "2022-07-15T14:35:59.555379Z",
          "shell.execute_reply": "2022-07-15T14:35:59.555397Z"
        },
        "trusted": true,
        "colab": {
          "base_uri": "https://localhost:8080/"
        },
        "id": "QwivH045WHWn",
        "outputId": "d12037ee-6e5d-44a4-c90e-75a203608c47"
      },
      "execution_count": null,
      "outputs": [
        {
          "output_type": "stream",
          "name": "stdout",
          "text": [
            "/content/drive/MyDrive/bangla/aids/1.txt\n",
            "[0, 1, 2, 3, 4, 0, 1, 2, 3, 4, 0, 1, 2, 3, 4, 0, 1, 2, 3, 4, 0, 1, 2, 3, 4]\n"
          ]
        }
      ]
    },
    {
      "cell_type": "code",
      "source": [
        "train_frac = 0.8\n",
        "train_size = int(len(file_paths) * train_frac)\n",
        "print(train_size)"
      ],
      "metadata": {
        "id": "mimhWVSzzAmS",
        "execution": {
          "iopub.status.busy": "2022-07-15T14:35:59.556806Z",
          "iopub.status.idle": "2022-07-15T14:35:59.557209Z",
          "shell.execute_reply.started": "2022-07-15T14:35:59.556995Z",
          "shell.execute_reply": "2022-07-15T14:35:59.557013Z"
        },
        "trusted": true,
        "colab": {
          "base_uri": "https://localhost:8080/"
        },
        "outputId": "fa86fe7a-c8c0-4338-82c5-7807111b7f1d"
      },
      "execution_count": null,
      "outputs": [
        {
          "output_type": "stream",
          "name": "stdout",
          "text": [
            "20\n"
          ]
        }
      ]
    },
    {
      "cell_type": "code",
      "source": [
        "def load_file(path, label):\n",
        "    return tf.io.read_file(path), label"
      ],
      "metadata": {
        "id": "eZRGTzEhUi7Q",
        "execution": {
          "iopub.status.busy": "2022-07-15T14:35:59.558861Z",
          "iopub.status.idle": "2022-07-15T14:35:59.560427Z",
          "shell.execute_reply.started": "2022-07-15T14:35:59.560097Z",
          "shell.execute_reply": "2022-07-15T14:35:59.560146Z"
        },
        "trusted": true
      },
      "execution_count": null,
      "outputs": []
    },
    {
      "cell_type": "code",
      "source": [
        "def make_datasets(train_size):\n",
        "  batch_size = 5\n",
        "\n",
        "  train_files = file_paths[:train_size]\n",
        "  train_labels = labels[:train_size] \n",
        "  train_ds = tf.data.Dataset.from_tensor_slices((train_files, train_labels))\n",
        "  \n",
        "  train_ds = train_ds.map(load_file).shuffle(5000)\n",
        "  train_ds = train_ds.batch(batch_size).prefetch(tf.data.AUTOTUNE)\n",
        "\n",
        "  test_files = file_paths[train_size:]\n",
        "  test_labels = labels[train_size:]\n",
        "  test_ds = tf.data.Dataset.from_tensor_slices((test_files, test_labels))\n",
        "  test_ds = test_ds.map(load_file)\n",
        "  test_ds = test_ds.batch(batch_size).prefetch(tf.data.AUTOTUNE)\n",
        "\n",
        "\n",
        "  return train_ds, test_ds"
      ],
      "metadata": {
        "id": "2g4nRflB7fbF",
        "execution": {
          "iopub.status.busy": "2022-07-15T14:35:59.561908Z",
          "iopub.status.idle": "2022-07-15T14:35:59.562338Z",
          "shell.execute_reply.started": "2022-07-15T14:35:59.562094Z",
          "shell.execute_reply": "2022-07-15T14:35:59.562142Z"
        },
        "trusted": true
      },
      "execution_count": null,
      "outputs": []
    },
    {
      "cell_type": "code",
      "source": [
        "train_data, validation_data = make_datasets(train_size)\n",
        "\n",
        "print(train_data)\n",
        "print(validation_data)"
      ],
      "metadata": {
        "id": "8PuuN6el8tv9",
        "execution": {
          "iopub.status.busy": "2022-07-15T14:35:59.564282Z",
          "iopub.status.idle": "2022-07-15T14:35:59.564658Z",
          "shell.execute_reply.started": "2022-07-15T14:35:59.564477Z",
          "shell.execute_reply": "2022-07-15T14:35:59.564493Z"
        },
        "trusted": true,
        "colab": {
          "base_uri": "https://localhost:8080/"
        },
        "outputId": "a64bea43-2dff-4b91-9a2b-ad8844f193e7"
      },
      "execution_count": null,
      "outputs": [
        {
          "output_type": "stream",
          "name": "stdout",
          "text": [
            "<PrefetchDataset element_spec=(TensorSpec(shape=(None,), dtype=tf.string, name=None), TensorSpec(shape=(None,), dtype=tf.int32, name=None))>\n",
            "<PrefetchDataset element_spec=(TensorSpec(shape=(None,), dtype=tf.string, name=None), TensorSpec(shape=(None,), dtype=tf.int32, name=None))>\n"
          ]
        }
      ]
    },
    {
      "cell_type": "markdown",
      "source": [
        "## Model"
      ],
      "metadata": {
        "id": "WhCqbDK2uUV5"
      }
    },
    {
      "cell_type": "code",
      "source": [
        "def create_model():\n",
        "  model = tf.keras.Sequential([\n",
        "    tf.keras.layers.Input(shape=[], dtype=tf.string),\n",
        "    embedding_layer,\n",
        "    tf.keras.layers.Dense(64, activation=\"relu\"),\n",
        "    tf.keras.layers.Dense(16, activation=\"relu\"),\n",
        "    tf.keras.layers.Dense(5),\n",
        "  ])\n",
        "  model.compile(loss=tf.losses.SparseCategoricalCrossentropy(from_logits=True),\n",
        "      optimizer=\"adam\", metrics=['accuracy'])\n",
        "  return model  "
      ],
      "metadata": {
        "id": "nHUw807XPPM9",
        "execution": {
          "iopub.status.busy": "2022-07-15T14:35:59.566014Z",
          "iopub.status.idle": "2022-07-15T14:35:59.566420Z",
          "shell.execute_reply.started": "2022-07-15T14:35:59.566236Z",
          "shell.execute_reply": "2022-07-15T14:35:59.566254Z"
        },
        "trusted": true
      },
      "execution_count": null,
      "outputs": []
    },
    {
      "cell_type": "code",
      "source": [
        "model = create_model()\n",
        "# Create earlystopping callback\n",
        "early_stopping_callback = tf.keras.callbacks.EarlyStopping(monitor='val_loss', min_delta=0, patience=3)"
      ],
      "metadata": {
        "id": "5J4EXJUmPVNG",
        "execution": {
          "iopub.status.busy": "2022-07-15T14:35:59.567502Z",
          "iopub.status.idle": "2022-07-15T14:35:59.567843Z",
          "shell.execute_reply.started": "2022-07-15T14:35:59.567677Z",
          "shell.execute_reply": "2022-07-15T14:35:59.567692Z"
        },
        "trusted": true
      },
      "execution_count": null,
      "outputs": []
    },
    {
      "cell_type": "markdown",
      "source": [
        "## Training"
      ],
      "metadata": {
        "id": "ZZ7XJLg2u2No"
      }
    },
    {
      "cell_type": "code",
      "source": [
        "\n",
        "history = model.fit(train_data, \n",
        "                    validation_data=validation_data, \n",
        "                    epochs=5, \n",
        "                    callbacks=[early_stopping_callback])"
      ],
      "metadata": {
        "id": "OoBkN2tAaXWD",
        "execution": {
          "iopub.status.busy": "2022-07-15T14:35:59.569431Z",
          "iopub.status.idle": "2022-07-15T14:35:59.570458Z",
          "shell.execute_reply.started": "2022-07-15T14:35:59.570219Z",
          "shell.execute_reply": "2022-07-15T14:35:59.570240Z"
        },
        "trusted": true,
        "colab": {
          "base_uri": "https://localhost:8080/"
        },
        "outputId": "29fe9374-49ea-4014-cae4-f028522bd5d9"
      },
      "execution_count": null,
      "outputs": [
        {
          "output_type": "stream",
          "name": "stdout",
          "text": [
            "Epoch 1/5\n",
            "1/1 [==============================] - 1s 693ms/step - loss: 1.6094 - accuracy: 0.2000 - val_loss: 1.6094 - val_accuracy: 0.2000\n",
            "Epoch 2/5\n",
            "1/1 [==============================] - 0s 71ms/step - loss: 1.6094 - accuracy: 0.2000 - val_loss: 1.6094 - val_accuracy: 0.2000\n",
            "Epoch 3/5\n",
            "1/1 [==============================] - 0s 62ms/step - loss: 1.6094 - accuracy: 0.2000 - val_loss: 1.6094 - val_accuracy: 0.2000\n",
            "Epoch 4/5\n",
            "1/1 [==============================] - 0s 60ms/step - loss: 1.6094 - accuracy: 0.2000 - val_loss: 1.6094 - val_accuracy: 0.2000\n",
            "Epoch 5/5\n",
            "1/1 [==============================] - 0s 80ms/step - loss: 1.6094 - accuracy: 0.2000 - val_loss: 1.6094 - val_accuracy: 0.2000\n"
          ]
        }
      ]
    },
    {
      "cell_type": "code",
      "source": [
        "# Plot training & validation accuracy values\n",
        "plt.plot(history.history['accuracy'])\n",
        "plt.plot(history.history['val_accuracy'])\n",
        "plt.title('Model accuracy')\n",
        "plt.ylabel('Accuracy')\n",
        "plt.xlabel('Epoch')\n",
        "plt.legend(['Train', 'Test'], loc='upper left')\n",
        "plt.show()\n",
        "\n",
        "# Plot training & validation loss values\n",
        "plt.plot(history.history['loss'])\n",
        "plt.plot(history.history['val_loss'])\n",
        "plt.title('Model loss')\n",
        "plt.ylabel('Loss')\n",
        "plt.xlabel('Epoch')\n",
        "plt.legend(['Train', 'Test'], loc='upper left')\n",
        "plt.show()"
      ],
      "metadata": {
        "id": "V6tOnByIOeGn",
        "execution": {
          "iopub.status.busy": "2022-07-15T14:35:59.572575Z",
          "iopub.status.idle": "2022-07-15T14:35:59.572965Z",
          "shell.execute_reply.started": "2022-07-15T14:35:59.572767Z",
          "shell.execute_reply": "2022-07-15T14:35:59.572783Z"
        },
        "trusted": true,
        "colab": {
          "base_uri": "https://localhost:8080/",
          "height": 573
        },
        "outputId": "dc71284c-141c-4e0e-9c31-a6bb0c060b18"
      },
      "execution_count": null,
      "outputs": [
        {
          "output_type": "display_data",
          "data": {
            "text/plain": [
              "<Figure size 432x288 with 1 Axes>"
            ],
            "image/png": "[encoded data removed]"
          },
          "metadata": {
            "needs_background": "light"
          }
        },
        {
          "output_type": "display_data",
          "data": {
            "text/plain": [
              "<Figure size 432x288 with 1 Axes>"
            ],
            "image/png": "[encoded data removed]"
          },
          "metadata": {
            "needs_background": "light"
          }
        }
      ]
    },
    {
      "cell_type": "code",
      "source": [
        "y_pred = model.predict(validation_data)"
      ],
      "metadata": {
        "id": "dptEywzZJk4l",
        "execution": {
          "iopub.status.busy": "2022-07-15T14:35:59.575328Z",
          "iopub.status.idle": "2022-07-15T14:35:59.576144Z",
          "shell.execute_reply.started": "2022-07-15T14:35:59.575760Z",
          "shell.execute_reply": "2022-07-15T14:35:59.575793Z"
        },
        "trusted": true
      },
      "execution_count": null,
      "outputs": []
    },
    {
      "cell_type": "code",
      "source": [
        "y_pred = np.argmax(y_pred, axis=1)"
      ],
      "metadata": {
        "id": "7Dzeml6Pk0ub",
        "execution": {
          "iopub.status.busy": "2022-07-15T14:35:59.577967Z",
          "iopub.status.idle": "2022-07-15T14:35:59.578599Z",
          "shell.execute_reply.started": "2022-07-15T14:35:59.578300Z",
          "shell.execute_reply": "2022-07-15T14:35:59.578328Z"
        },
        "trusted": true
      },
      "execution_count": null,
      "outputs": []
    },
    {
      "cell_type": "code",
      "source": [
        "samples = file_paths[0:3]\n",
        "for i, sample in enumerate(samples):\n",
        "  f = open(sample)\n",
        "  text = f.read()\n",
        "  print(text[0:100])\n",
        "  print(\"True Class: \", sample.split(\"/\")[5])\n",
        "  print(\"Predicted Class: \", CATEGORIES[y_pred[i]])\n",
        "  f.close()\n",
        "  "
      ],
      "metadata": {
        "id": "T4M3Lzg8jHcB",
        "execution": {
          "iopub.status.busy": "2022-07-15T14:35:59.580970Z",
          "iopub.status.idle": "2022-07-15T14:35:59.581582Z",
          "shell.execute_reply.started": "2022-07-15T14:35:59.581288Z",
          "shell.execute_reply": "2022-07-15T14:35:59.581315Z"
        },
        "trusted": true,
        "colab": {
          "base_uri": "https://localhost:8080/"
        },
        "outputId": "cbec4c3c-3f20-40bb-fcf0-cc2b435d11bd"
      },
      "execution_count": null,
      "outputs": [
        {
          "output_type": "stream",
          "name": "stdout",
          "text": [
            "মাত্রাতিরিক্ত_জ্বর,শরীরে র‍্যাশ,ক্লান্তি,মাউথ_আলসার\t\n",
            "\n",
            "True Class:  aids\n",
            "Predicted Class:  diarrhea\n",
            "মাত্রাতিরিক্ত_জ্বর,শরীরে র‍্যাশ,ক্লান্তি,মাউথ_আলসার\t\n",
            "\n",
            "True Class:  aids\n",
            "Predicted Class:  diarrhea\n",
            "মাত্রাতিরিক্ত_জ্বর,শরীরে র‍্যাশ,ক্লান্তি,মাউথ_আলসার\t\n",
            "\n",
            "True Class:  aids\n",
            "Predicted Class:  diarrhea\n"
          ]
        }
      ]
    },
    {
      "cell_type": "code",
      "source": [
        "y_true = np.array(labels[train_size:])"
      ],
      "metadata": {
        "id": "mqrERUCS1Xn7",
        "execution": {
          "iopub.status.busy": "2022-07-15T14:35:59.583472Z",
          "iopub.status.idle": "2022-07-15T14:35:59.584047Z",
          "shell.execute_reply.started": "2022-07-15T14:35:59.583749Z",
          "shell.execute_reply": "2022-07-15T14:35:59.583777Z"
        },
        "trusted": true
      },
      "execution_count": null,
      "outputs": []
    },
    {
      "cell_type": "code",
      "source": [
        "print(classification_report(y_true, y_pred, target_names=CATEGORIES))"
      ],
      "metadata": {
        "id": "NX5w-NuTKuVP",
        "execution": {
          "iopub.status.busy": "2022-07-15T14:35:59.586521Z",
          "iopub.status.idle": "2022-07-15T14:35:59.586973Z",
          "shell.execute_reply.started": "2022-07-15T14:35:59.586777Z",
          "shell.execute_reply": "2022-07-15T14:35:59.586795Z"
        },
        "trusted": true,
        "colab": {
          "base_uri": "https://localhost:8080/"
        },
        "outputId": "41ef73ea-d0d8-49bc-830c-a738b1d57bb4"
      },
      "execution_count": null,
      "outputs": [
        {
          "output_type": "stream",
          "name": "stdout",
          "text": [
            "               precision    recall  f1-score   support\n",
            "\n",
            "         aids       0.00      0.00      0.00         1\n",
            "    allergies       0.20      1.00      0.33         1\n",
            "     diabetes       0.00      0.00      0.00         1\n",
            "     diarrhea       0.00      0.00      0.00         1\n",
            "drug_reaction       0.00      0.00      0.00         1\n",
            "\n",
            "     accuracy                           0.20         5\n",
            "    macro avg       0.04      0.20      0.07         5\n",
            " weighted avg       0.04      0.20      0.07         5\n",
            "\n"
          ]
        },
        {
          "output_type": "stream",
          "name": "stderr",
          "text": [
            "/usr/local/lib/python3.7/dist-packages/sklearn/metrics/_classification.py:1318: UndefinedMetricWarning: Precision and F-score are ill-defined and being set to 0.0 in labels with no predicted samples. Use `zero_division` parameter to control this behavior.\n",
            "  _warn_prf(average, modifier, msg_start, len(result))\n",
            "/usr/local/lib/python3.7/dist-packages/sklearn/metrics/_classification.py:1318: UndefinedMetricWarning: Precision and F-score are ill-defined and being set to 0.0 in labels with no predicted samples. Use `zero_division` parameter to control this behavior.\n",
            "  _warn_prf(average, modifier, msg_start, len(result))\n",
            "/usr/local/lib/python3.7/dist-packages/sklearn/metrics/_classification.py:1318: UndefinedMetricWarning: Precision and F-score are ill-defined and being set to 0.0 in labels with no predicted samples. Use `zero_division` parameter to control this behavior.\n",
            "  _warn_prf(average, modifier, msg_start, len(result))\n"
          ]
        }
      ]
    }
  ]
}
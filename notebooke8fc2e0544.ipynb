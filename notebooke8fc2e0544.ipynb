{
 "cells": [
  {
   "cell_type": "code",
   "execution_count": 1,
   "id": "78136615",
   "metadata": {
    "_cell_guid": "b1076dfc-b9ad-4769-8c92-a6c4dae69d19",
    "_uuid": "8f2839f25d086af736a60e9eeb907d3b93b6e0e5",
    "execution": {
     "iopub.execute_input": "2022-07-15T14:19:44.281696Z",
     "iopub.status.busy": "2022-07-15T14:19:44.281032Z",
     "iopub.status.idle": "2022-07-15T14:19:44.302170Z",
     "shell.execute_reply": "2022-07-15T14:19:44.300796Z"
    },
    "papermill": {
     "duration": 0.029918,
     "end_time": "2022-07-15T14:19:44.305873",
     "exception": false,
     "start_time": "2022-07-15T14:19:44.275955",
     "status": "completed"
    },
    "tags": []
   },
   "outputs": [
    {
     "name": "stdout",
     "output_type": "stream",
     "text": [
      "/kaggle/input/netflix-tv-shows-and-movies/credits.csv\n",
      "/kaggle/input/netflix-tv-shows-and-movies/titles.csv\n"
     ]
    }
   ],
   "source": [
    "# This Python 3 environment comes with many helpful analytics libraries installed\n",
    "# It is defined by the kaggle/python Docker image: https://github.com/kaggle/docker-python\n",
    "# For example, here's several helpful packages to load\n",
    "\n",
    "import numpy as np # linear algebra\n",
    "import pandas as pd # data processing, CSV file I/O (e.g. pd.read_csv)\n",
    "\n",
    "# Input data files are available in the read-only \"../input/\" directory\n",
    "# For example, running this (by clicking run or pressing Shift+Enter) will list all files under the input directory\n",
    "\n",
    "import os\n",
    "for dirname, _, filenames in os.walk('/kaggle/input'):\n",
    "    for filename in filenames:\n",
    "        print(os.path.join(dirname, filename))\n",
    "\n",
    "# You can write up to 20GB to the current directory (/kaggle/working/) that gets preserved as output when you create a version using \"Save & Run All\" \n",
    "# You can also write temporary files to /kaggle/temp/, but they won't be saved outside of the current session"
   ]
  },
  {
   "cell_type": "code",
   "execution_count": 2,
   "id": "8edfc3ea",
   "metadata": {
    "execution": {
     "iopub.execute_input": "2022-07-15T14:19:44.313647Z",
     "iopub.status.busy": "2022-07-15T14:19:44.312464Z",
     "iopub.status.idle": "2022-07-15T14:19:44.320513Z",
     "shell.execute_reply": "2022-07-15T14:19:44.318906Z"
    },
    "papermill": {
     "duration": 0.014229,
     "end_time": "2022-07-15T14:19:44.323268",
     "exception": false,
     "start_time": "2022-07-15T14:19:44.309039",
     "status": "completed"
    },
    "tags": []
   },
   "outputs": [
    {
     "name": "stdout",
     "output_type": "stream",
     "text": [
      "This is awesome\n"
     ]
    }
   ],
   "source": [
    "print(\"This is awesome\")"
   ]
  },
  {
   "cell_type": "code",
   "execution_count": 3,
   "id": "fb86d869",
   "metadata": {
    "execution": {
     "iopub.execute_input": "2022-07-15T14:19:44.329974Z",
     "iopub.status.busy": "2022-07-15T14:19:44.329589Z",
     "iopub.status.idle": "2022-07-15T14:19:44.547729Z",
     "shell.execute_reply": "2022-07-15T14:19:44.546743Z"
    },
    "papermill": {
     "duration": 0.224535,
     "end_time": "2022-07-15T14:19:44.550485",
     "exception": false,
     "start_time": "2022-07-15T14:19:44.325950",
     "status": "completed"
    },
    "tags": []
   },
   "outputs": [],
   "source": [
    "dt_f = pd.read_csv(\"../input/netflix-tv-shows-and-movies/credits.csv\")"
   ]
  },
  {
   "cell_type": "code",
   "execution_count": 4,
   "id": "b304e7ec",
   "metadata": {
    "execution": {
     "iopub.execute_input": "2022-07-15T14:19:44.557990Z",
     "iopub.status.busy": "2022-07-15T14:19:44.557508Z",
     "iopub.status.idle": "2022-07-15T14:19:44.563100Z",
     "shell.execute_reply": "2022-07-15T14:19:44.561866Z"
    },
    "papermill": {
     "duration": 0.014026,
     "end_time": "2022-07-15T14:19:44.567516",
     "exception": false,
     "start_time": "2022-07-15T14:19:44.553490",
     "status": "completed"
    },
    "tags": []
   },
   "outputs": [
    {
     "name": "stdout",
     "output_type": "stream",
     "text": [
      "hello\n"
     ]
    }
   ],
   "source": [
    "print('hello')"
   ]
  },
  {
   "cell_type": "code",
   "execution_count": null,
   "id": "8b3284d7",
   "metadata": {
    "papermill": {
     "duration": 0.002534,
     "end_time": "2022-07-15T14:19:44.573760",
     "exception": false,
     "start_time": "2022-07-15T14:19:44.571226",
     "status": "completed"
    },
    "tags": []
   },
   "outputs": [],
   "source": []
  }
 ],
 "metadata": {
  "kernelspec": {
   "display_name": "Python 3",
   "language": "python",
   "name": "python3"
  },
  "language_info": {
   "codemirror_mode": {
    "name": "ipython",
    "version": 3
   },
   "file_extension": ".py",
   "mimetype": "text/x-python",
   "name": "python",
   "nbconvert_exporter": "python",
   "pygments_lexer": "ipython3",
   "version": "3.7.12"
  },
  "papermill": {
   "default_parameters": {},
   "duration": 11.119406,
   "end_time": "2022-07-15T14:19:45.200697",
   "environment_variables": {},
   "exception": null,
   "input_path": "__notebook__.ipynb",
   "output_path": "__notebook__.ipynb",
   "parameters": {},
   "start_time": "2022-07-15T14:19:34.081291",
   "version": "2.3.4"
  }
 },
 "nbformat": 4,
 "nbformat_minor": 5
}
